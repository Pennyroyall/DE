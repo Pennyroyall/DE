{
 "cells": [
  {
   "cell_type": "code",
   "execution_count": 8,
   "metadata": {},
   "outputs": [],
   "source": [
    "from utils import *\n",
    "from catboost import CatBoostClassifier"
   ]
  },
  {
   "cell_type": "code",
   "execution_count": 23,
   "metadata": {},
   "outputs": [
    {
     "name": "stdout",
     "output_type": "stream",
     "text": [
      "\n",
      "Start\n",
      "Creating samples, time: 9.645649909973145\n"
     ]
    }
   ],
   "source": [
    "print('\\nStart')\n",
    "n = 8 #dimension of systems\n",
    "cut = 0.5 #procent of stable samples\n",
    "N = 100000 #number of samples\n",
    "d = 10 #~dispersion\n",
    "\n",
    "if 1==1:\n",
    "\ttt = time()\n",
    "\tX_train, Y_train = generate_samples(n, cut, N, d)\n",
    "\tX_test, Y_test = generate_samples(n, 0.5, N//5, d)\n",
    "\tprint('Creating samples, time:', (time()-tt))\n",
    "\tpickle_dump(X_train, 'z_X_train.pckl')\n",
    "\tpickle_dump(Y_train, 'z_Y_train.pckl')\n",
    "\tpickle_dump(X_test, 'z_X_test.pckl')\n",
    "\tpickle_dump(Y_test, 'z_Y_test.pckl')\n",
    "else:\n",
    "\tX_train = pickle_load('z_X_train.pckl')\n",
    "\tY_train = pickle_load('z_Y_train.pckl')\n",
    "\tX_test = pickle_load('z_X_test.pckl')\n",
    "\tY_test = pickle_load('z_Y_test.pckl')\n",
    "\tprint('Loading done')"
   ]
  },
  {
   "cell_type": "code",
   "execution_count": 24,
   "metadata": {
    "scrolled": true
   },
   "outputs": [
    {
     "name": "stderr",
     "output_type": "stream",
     "text": [
      "Learning rate set to 0.061677\n"
     ]
    },
    {
     "name": "stdout",
     "output_type": "stream",
     "text": [
      "MEAN pred: 0.4945\n",
      "ACC: 0.9023\n",
      "ROC_AUC: 0.9022828685972926\n",
      "CONFUSION MATRIX\n",
      " [[0.90585191 0.09505627]\n",
      " [0.10031847 0.89871383]]\n",
      "Done\n",
      "\n",
      "\n",
      "Wall time: 2min 2s\n"
     ]
    }
   ],
   "source": [
    "%%time\n",
    "if 1==0:\n",
    "\tX_train = StandardScaler().fit_transform(X_train)\n",
    "\tX_test = StandardScaler().fit_transform(X_test)\n",
    "\n",
    "\n",
    "model = CatBoostClassifier(loss_function='Logloss', logging_level='Silent')\n",
    "model.fit(X_train, Y_train)\n",
    "\n",
    "Y_pred = (model.predict(X_test)>0.5).astype('int')\n",
    "acc_score = accuracy_score(Y_test, Y_pred)\n",
    "roc_score = roc_auc_score(Y_test, Y_pred)\n",
    "cm = confusion_matrix(Y_test, Y_pred)\n",
    "print('MEAN pred:', np.mean(Y_pred))\n",
    "print('ACC:', acc_score)\n",
    "print('ROC_AUC:', roc_score)\n",
    "print('CONFUSION MATRIX\\n', cm / cm.sum(axis=1))\n",
    "\n",
    "print('Done\\n\\n')"
   ]
  },
  {
   "cell_type": "code",
   "execution_count": null,
   "metadata": {},
   "outputs": [],
   "source": []
  }
 ],
 "metadata": {
  "kernelspec": {
   "display_name": "Python 3",
   "language": "python",
   "name": "python3"
  },
  "language_info": {
   "codemirror_mode": {
    "name": "ipython",
    "version": 3
   },
   "file_extension": ".py",
   "mimetype": "text/x-python",
   "name": "python",
   "nbconvert_exporter": "python",
   "pygments_lexer": "ipython3",
   "version": "3.6.5"
  }
 },
 "nbformat": 4,
 "nbformat_minor": 2
}
