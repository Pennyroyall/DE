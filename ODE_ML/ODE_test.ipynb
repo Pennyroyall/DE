{
 "cells": [
  {
   "cell_type": "code",
   "execution_count": 25,
   "metadata": {},
   "outputs": [],
   "source": [
    "import numpy as np\n",
    "from sklearn.ensemble import RandomForestClassifier\n",
    "from sklearn.metrics import roc_auc_score\n",
    "from sklearn.metrics import accuracy_score\n",
    "from sklearn.metrics import confusion_matrix\n",
    "import lightgbm as lgb"
   ]
  },
  {
   "cell_type": "code",
   "execution_count": 118,
   "metadata": {},
   "outputs": [],
   "source": [
    "def generate_samples(n, cut, N, d):\n",
    "    data = []  \n",
    "    for k in range(0, N):\n",
    "        p = np.random.rand()\n",
    "        if p<=cut:\n",
    "            spectre = np.diag((np.random.rand((n)) - 1)*d/2)\n",
    "            label = 1\n",
    "        else:\n",
    "            spectre = np.diag((np.random.rand((n)) - 1/2)*d)\n",
    "            label = 0   \n",
    "        new_basis = d*np.random.rand(n, n)\n",
    "        system = np.linalg.inv(new_basis).dot(spectre.dot(new_basis))\n",
    "        temp_list = list(system.reshape(1, -1).flatten())\n",
    "        temp_list.append(label)\n",
    "        data.append(temp_list)\n",
    "\n",
    "    data = np.matrix(data)\n",
    "    X = np.asarray(data[:, :-1])\n",
    "    Y = np.asarray(data[:, -1]).flatten().astype('int')\n",
    "    return X, Y"
   ]
  },
  {
   "cell_type": "code",
   "execution_count": 123,
   "metadata": {},
   "outputs": [
    {
     "name": "stdout",
     "output_type": "stream",
     "text": [
      "Wall time: 38.6 s\n"
     ]
    }
   ],
   "source": [
    "%%time\n",
    "n = 2 #dimension of systems\n",
    "cut = 1/2 #procent of stable samples\n",
    "N = 500000 #number of samples\n",
    "d = 100 #~dispersion\n",
    "X_train, Y_train = generate_samples(n, cut, N, d)\n",
    "X_test, Y_test = generate_samples(n, cut, N//5, d)"
   ]
  },
  {
   "cell_type": "code",
   "execution_count": 121,
   "metadata": {},
   "outputs": [
    {
     "name": "stdout",
     "output_type": "stream",
     "text": [
      "Wall time: 201 ms\n"
     ]
    }
   ],
   "source": [
    "%%time\n",
    "clf = RandomForestClassifier()\n",
    "clf.fit(X_train, Y_train)"
   ]
  },
  {
   "cell_type": "code",
   "execution_count": 122,
   "metadata": {},
   "outputs": [
    {
     "name": "stdout",
     "output_type": "stream",
     "text": [
      "ACC: 0.768\n",
      "ROC_AUC: 0.7703213762693316\n",
      "\n",
      "CONFUSION MATRIX\n",
      " [[0.73977695 0.3030303 ]\n",
      " [0.17100372 0.8008658 ]]\n"
     ]
    }
   ],
   "source": [
    "Y_pred = clf.predict(X_test)\n",
    "acc_score = accuracy_score(Y_test, Y_pred)\n",
    "roc_score = roc_auc_score(Y_test, Y_pred)\n",
    "cm = confusion_matrix(Y_test, Y_pred)\n",
    "print('ACC:', acc_score)\n",
    "print('ROC_AUC:', roc_score)\n",
    "print('\\nCONFUSION MATRIX\\n', cm / cm.sum(axis=1))"
   ]
  },
  {
   "cell_type": "code",
   "execution_count": 128,
   "metadata": {
    "scrolled": true
   },
   "outputs": [
    {
     "name": "stderr",
     "output_type": "stream",
     "text": [
      "C:\\ProgramData\\Anaconda3\\lib\\site-packages\\lightgbm\\engine.py:111: UserWarning: Found `num_iterations` in params. Will use it instead of argument\n",
      "  warnings.warn(\"Found `{}` in params. Will use it instead of argument\".format(alias))\n"
     ]
    },
    {
     "name": "stdout",
     "output_type": "stream",
     "text": [
      "Wall time: 20.9 s\n"
     ]
    }
   ],
   "source": [
    "%%time\n",
    "train_data = lgb.Dataset(X_train, label = Y_train)\n",
    "test_data = lgb.Dataset(X_test, label = Y_test)\n",
    "param = {\n",
    "        'num_leaves':50, \n",
    "        'max_depth':100,\n",
    "        'num_trees':100, \n",
    "        'num_iterations':1000,\n",
    "        'learning_rate' : 0.1,\n",
    "        'objective':'binary',\n",
    "        'metric':['auc', 'acc'],\n",
    "        'verbose':1\n",
    "        }\n",
    "\n",
    "num_round = 50\n",
    "bst = lgb.train(param, train_data, num_round)"
   ]
  },
  {
   "cell_type": "code",
   "execution_count": 127,
   "metadata": {},
   "outputs": [
    {
     "name": "stdout",
     "output_type": "stream",
     "text": [
      "ACC: 0.83071\n",
      "ROC_AUC: 0.8303608026393882\n",
      "\n",
      "CONFUSION MATRIX\n",
      " [[0.73598314 0.26207034]\n",
      " [0.07582054 0.92473847]]\n"
     ]
    }
   ],
   "source": [
    "Y_pred = (bst.predict(X_test)>0.5).astype('int')\n",
    "acc_score = accuracy_score(Y_test, Y_pred)\n",
    "roc_score = roc_auc_score(Y_test, Y_pred)\n",
    "cm = confusion_matrix(Y_test, Y_pred)\n",
    "print('ACC:', acc_score)\n",
    "print('ROC_AUC:', roc_score)\n",
    "print('\\nCONFUSION MATRIX\\n', cm / cm.sum(axis=1))"
   ]
  },
  {
   "cell_type": "code",
   "execution_count": 96,
   "metadata": {},
   "outputs": [
    {
     "data": {
      "text/plain": [
       "array([0, 0, 1, ..., 1, 0, 1])"
      ]
     },
     "execution_count": 96,
     "metadata": {},
     "output_type": "execute_result"
    }
   ],
   "source": [
    "(Y_pred>0.5).astype('int')"
   ]
  },
  {
   "cell_type": "code",
   "execution_count": 130,
   "metadata": {},
   "outputs": [],
   "source": [
    "lst = [2]"
   ]
  },
  {
   "cell_type": "code",
   "execution_count": 134,
   "metadata": {},
   "outputs": [
    {
     "data": {
      "text/plain": [
       "[]"
      ]
     },
     "execution_count": 134,
     "metadata": {},
     "output_type": "execute_result"
    }
   ],
   "source": [
    "system"
   ]
  },
  {
   "cell_type": "code",
   "execution_count": 133,
   "metadata": {},
   "outputs": [
    {
     "data": {
      "text/plain": [
       "[]"
      ]
     },
     "execution_count": 133,
     "metadata": {},
     "output_type": "execute_result"
    }
   ],
   "source": []
  },
  {
   "cell_type": "code",
   "execution_count": null,
   "metadata": {},
   "outputs": [],
   "source": []
  }
 ],
 "metadata": {
  "kernelspec": {
   "display_name": "Python 3",
   "language": "python",
   "name": "python3"
  },
  "language_info": {
   "codemirror_mode": {
    "name": "ipython",
    "version": 3
   },
   "file_extension": ".py",
   "mimetype": "text/x-python",
   "name": "python",
   "nbconvert_exporter": "python",
   "pygments_lexer": "ipython3",
   "version": "3.6.5"
  }
 },
 "nbformat": 4,
 "nbformat_minor": 2
}
